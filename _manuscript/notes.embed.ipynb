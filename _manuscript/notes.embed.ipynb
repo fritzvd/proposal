{
 "cells": [
  {
   "cell_type": "markdown",
   "metadata": {},
   "source": [
    "# Notes\n",
    "\n",
    "Frederik J. Van Deventer\n",
    "\n",
    "-   “While privacy is recognised as a right by some African states, this is only rarely translated into justiciable rights and is almost never a constraint on the behaviour of governments and their secret police. This can be seen in the areas of data protection, surveillance and cybersecurity.” - @sutherlandDigitalPrivacyAfrica2018"
   ],
   "id": "c83cda90-77a5-49a9-97e9-cad930d1edd9"
  }
 ],
 "nbformat": 4,
 "nbformat_minor": 5,
 "metadata": {}
}

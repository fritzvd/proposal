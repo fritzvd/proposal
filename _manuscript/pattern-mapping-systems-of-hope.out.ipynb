{
 "cells": [
  {
   "cell_type": "markdown",
   "metadata": {},
   "source": [
    "# Towards solutions with impact : rebridging the digital gap in areas\n",
    "\n",
    "Frederik J. Van Deventer\n",
    "\n",
    "## Context\n",
    "\n",
    "The digital divide is not a new phenomenon. It is usually described as the gap existing between those whore are able to make use of Internet and Communication Technologies (ICTs) and those who can not ([Van Dijk 2017](#ref-van2017digital)). This has a number of levels of inequality ([Lythreatis, Singh, and El-Kassar 2022](#ref-lythreatisDigitalDivideReview2022))\n",
    "\n",
    "## Solution\n",
    "\n",
    "Mobile stations that serve as a gateway for simple phones.\n",
    "\n",
    "Lythreatis, Sophie, Sanjay Kumar Singh, and Abdul-Nasser El-Kassar. 2022. “The Digital Divide: A Review and Future Research Agenda.” *Technological Forecasting and Social Change* 175 (February): 121359. <https://doi.org/10.1016/j.techfore.2021.121359>.\n",
    "\n",
    "Van Dijk, JAGM. 2017. “Digital Divide: Impact of Access.” *The International Encyclopedia of Media Effects* 1: 1–11."
   ],
   "id": "7c2a969a-688a-421a-b3ab-ebccc65a585b"
  }
 ],
 "nbformat": 4,
 "nbformat_minor": 5,
 "metadata": {}
}

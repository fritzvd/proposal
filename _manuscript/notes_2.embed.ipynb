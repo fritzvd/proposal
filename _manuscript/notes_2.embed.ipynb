{
 "cells": [
  {
   "cell_type": "markdown",
   "metadata": {},
   "source": [
    "# PhD Proposal\n",
    "\n",
    "Frederik J van Deventer (HAN University of Applied Sciences)\n",
    "\n",
    "## Why don’t we care about privacy?\n",
    "\n",
    "-   similar to not caring about the environment\n",
    "-   vegetarianism\n",
    "-   dopanmine, addiction to social media\n",
    "-   necessity. gmail is just so cheap\n",
    "\n",
    "### solution\n",
    "\n",
    "Prevalence, front of mind consequence meditation\n",
    "\n",
    "## Introduction\n",
    "\n",
    "As humans in a digital society we are living lives that are entwined with technology that exchanges data. We need to exchange data to track our businesses, for our communications with friends and family, to come ahead in our educational system, to pay our taxes etcetera, etcetera. We sacrifice our privacy to get access to free applications or to benefit our security \\[@mckinnon2014sacrificing\\], or move along faster in a health system \\[\\], or even to register for asylum \\[@lodinovaApplicationBiometricsMeans2016\\]. These applications typically track our internet behaviour \\[@makhortykhTrackNotTrack2022;@razaghpanahAppsTrackersPrivacy2018\\]. This tracking of biometric, location and social data is not without danger, this data is also used for the creation of economic value and has lead to something more than just a phenomenon of capitalism; it’s a manifestation of colonialism \\[@couldry2019data\\].\n",
    "\n",
    "With new developments in AI this becomes more prevalent as data and AI “entrench power assymetries and engender new forms of structural violence and new inequities between the Global South and North” \\[@madianou2024technocolonialism\\]. There is little to no protection or privacy for private consumers unless government regulation explicitly makes it so, like the GDPR program \\[@arora2019general\\]. Much of Global South legislation is lagging behind or has met with challenges in enforcing the laws set in place \\[@prinslooDataPrivacyAfrican2022\\].\n",
    "\n",
    "In light of this\n",
    "\n",
    "*Directions this could take. Validating all these promises AI seems to make. And vouching for privacy or security of the data disclosed with these agents.*"
   ],
   "id": "b4e5e7fa-ac87-484c-90b2-3e05243bf746"
  },
  {
   "cell_type": "raw",
   "metadata": {
    "raw_mimetype": "text/html"
   },
   "source": [
    "<!-- Third parties are becoming an integral part of government policy to deal with the process of data collection and analysis [@johnson2023owns]. -->"
   ],
   "id": "75c8ca94-03d2-4956-99dd-5f47df4011d8"
  },
  {
   "cell_type": "raw",
   "metadata": {
    "raw_mimetype": "text/html"
   },
   "source": [
    "<!-- \n",
    "> Most countries outside the West have lax or no privacy laws (Taylor, Floridi, and van der Sloot 2016). Brazil passed its first privacy laws in 2014, while India passed some in 2017. - [@arora2019general]\n",
    "\n",
    "__governance__ __legislation__ -->"
   ],
   "id": "0fc87a33-bc92-42a4-a100-b234bf042a4f"
  },
  {
   "cell_type": "markdown",
   "metadata": {},
   "source": [
    "## Research Questions\n",
    "\n",
    "In what way can power assymetries between the majority world and the minority world be limited by effective legislation towards protecting personal data of citizens?\n",
    "\n",
    "How can privacy literacy be increased that respects a cultural tradition without using a Eurocentric view of individual privacy but including a collective privacy?\n",
    "\n",
    "What does privacy mean in rural areas\n",
    "\n",
    "## Methodology\n",
    "\n",
    "-   Qualitative investigation of policy, laws in different countries\n",
    "-   Questionnaire on usage of internet and awareness of privacy concerns..\n",
    "\n",
    "## References"
   ],
   "id": "e0df6a01-4435-423b-a63a-a7c86b0603fe"
  }
 ],
 "nbformat": 4,
 "nbformat_minor": 5,
 "metadata": {}
}

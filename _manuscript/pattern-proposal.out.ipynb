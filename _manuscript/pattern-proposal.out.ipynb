{
 "cells": [
  {
   "cell_type": "markdown",
   "metadata": {},
   "source": [
    "# Discovering a pattern of privacy literacy in rural Sub Saharan Africa\n",
    "\n",
    "Frederik J. Van Deventer\n",
    "\n",
    "## Context\n",
    "\n",
    "With the rise of digitization and the data it produces, the question of ownership of data becomes a contested issue for agents such as Indigenous people, consumers and countries ([Hummel et al. 2021](#ref-hummel2021data)). If the ownership is not clear and personal data cannot always be obtained ([Herrmann and Lindemann 2016](#ref-herrmannObtainingPersonalData2016)) it should be clear we should not only look to data governance or ownership but also to defending this data in the light of privacy norms. However, digital privacy in much of Africa is subject to local and regional legislation ([Prinsloo and Kaliisa 2022](#ref-prinslooDataPrivacyAfrican2022)), but its main challenge lies in enforcement of this legislation ([Abdulrauf 2021](#ref-Abdulrauf04052021)). We should therefore not only rely on legislation, but also work towards higher privacy literacy ([Koltay 2016](#ref-koltay2016data)).\n",
    "\n",
    "Digital privacy is not a binary or singular thing, and giving our personal information to gain access to a platform or a service can be useful. However people largely underestimate the small bits of information we give to big tech and how the sum of that can still offer a persona or Gestalt ([Puaschunder 2018](#ref-puaschunder2018dignity)) with useful insights."
   ],
   "id": "ff4cc4c6-3c8b-4b41-bf19-791368c1072d"
  },
  {
   "cell_type": "raw",
   "metadata": {
    "raw_mimetype": "text/html"
   },
   "source": [
    "<!-- Not only the level of privacy but also the ease with which people could gain access, should be handled differently. -->"
   ],
   "id": "e0b252c0-4946-4174-bafa-97583efcb19d"
  },
  {
   "cell_type": "raw",
   "metadata": {
    "raw_mimetype": "text/html"
   },
   "source": [
    "<!-- \n",
    "Much of privacy literacy literature has used ethnocentric Western-based ideas of governance and regulation that do not take into account the multi-varied ways privacy can be perceived in the Global South [@arora2019general; @aroraDecolonizingPrivacyStudies2019]. -->"
   ],
   "id": "0412e7f3-c896-43c9-920a-d9d521ae6d43"
  },
  {
   "cell_type": "markdown",
   "metadata": {},
   "source": [
    "## Problem\n",
    "\n",
    "Understanding what happens with your data is difficult and ambigiuous in any context ([Bartsch and Dienlin 2016](#ref-bartschControlYourFacebook2016)). Regulation and enforcement often falls behind. And some regulation interventions simply fail, like the “cookie wall”-solution ([Leenes and Kosta 2015](#ref-leenes2015taming)). When companies like Meta profit from tracking users online ([Wernerfelt et al. 2025](#ref-wernerfeltEstimatingValueOffsite2025)) and\n",
    "\n",
    "## Research questions\n",
    "\n",
    "### Main question\n",
    "\n",
    "How can people in the Majority World benefit from being “connected” without sacrificing their privacy?\n",
    "\n",
    "What is permissable in bridging the digital divide? To what extent is big tech allowed to\n",
    "\n",
    "**(Possibly this can be more specified towards a Case Study in rural South Africa, or Botswana?)**\n",
    "\n",
    "### Sub-questions\n",
    "\n",
    "-   What initiatives stand out in ameliorating the digital divide?\n",
    "-   In what way are people aware of the predicament of sharing personal information?\n",
    "-   What is the benefit of participating in the digital “online world”?\n",
    "-   What legislation is in place to ensure digital privacy at a national and regional level?\n",
    "-   What conflicts between legislation and ethics arise concerning privacy?\n",
    "-   What are main differences when dealing with privacy in Europe and SSA?\n",
    "\n",
    "## Conceptual Framework\n",
    "\n",
    "Nissenbaum ([2004](#ref-nissenbaum2004privacy)) proposes the idea of “Contextual Integrity” for privacy. Which instead of focusing on specifics of data outlines “information flows”, of which the norms are subject to the context in which that data flows. With this notion of Contextual Integrity, we can easily establish the divulging of the same type of personal information can be completely permissable in one context and inappropriate in the other. For example sharing my postal address to purchase a product is permissable, whereas sharing my postal address with my students so they can hand in their papers personally, feels like crossing a boundary.\n",
    "\n",
    "The concept of “Contextual Integrity” has been used in a number of studies to deal with personal information flows."
   ],
   "id": "17e4f96a-ab4d-430d-98ea-2dbbbff23fdf"
  },
  {
   "cell_type": "raw",
   "metadata": {
    "raw_mimetype": "text/html"
   },
   "source": [
    "<!-- TODO: Find studies -->"
   ],
   "id": "d1b501fa-ed81-4012-ab97-a0cb93b76d43"
  },
  {
   "cell_type": "markdown",
   "metadata": {},
   "source": [
    "## Research methodology\n",
    "\n",
    "At the moment I’m reading Hancké ([2023](#ref-hanckeIntelligentResearchDesign2023)) and sorting through the vast bibliography of Sovacool, Axsen, and Sorrell ([2018](#ref-sovacoolPromotingNoveltyRigor2018)) to help sort out the methodology part.\n",
    "\n",
    "My initial instinct is to do a survey, but I would like to do something a bit different. But not sure how to go about this.\n",
    "\n",
    "Some other ideas:\n",
    "\n",
    "Ideas on how to accomplish this:\n",
    "\n",
    "-   A/B Testing – do survey’s on 2 groups\n",
    "    -   one group has received a seminar or dissemination of the information about privacy the other has not\n",
    "-   Do a deeper but not necessarily wider analysis. So perhaps look for a few groups of participants in rural Botswana and a few groups in urban Botswana. Or try to localize it further by looking at interactions wihtin townships.\n",
    "-   Data acquisition might be a problem..\n",
    "\n",
    "## Significance\n",
    "\n",
    "A study by Prinsloo and Kaliisa ([2022](#ref-prinslooDataPrivacyAfrican2022)) has been held to asses specific sub-topics such as student data privacy researching regulatory frameworks on the African content. The angle here to assess Higher Education Institutes (HEI’s) is helpful as it is a very concrete example and produces very clear results. However HEI’s are also quite an exclusive segment of society that cannot be used to draw broader conclusions. Another study uses a survey in an impressive array of countries but has quite a low sample size, primarily in the generation we call millenials, which might be the most digital and privacy literate ([Agbozo, Alhassan, and Spassov 2018](#ref-agbozo2018personal)).\n",
    "\n",
    "This study should be different from both previous efforts by both its scope and localization.\n",
    "\n",
    "## Bibliography\n",
    "\n",
    "Abdulrauf, Lukman Adebisi. 2021. “Giving ‘Teeth’ to the African Union Towards Advancing Compliance with Data Privacy Norms.” *Information & Communications Technology Law* 30 (2): 87–107. <https://doi.org/10.1080/13600834.2021.1849953>.\n",
    "\n",
    "Agbozo, Ebenezer, Daniel Alhassan, and Kamen Spassov. 2018. “Personal Data and Privacy Barriers to e-Government Adoption, Implementation and Development in Sub-Saharan Africa.” In *International Conference on Electronic Governance and Open Society: Challenges in Eurasia*, 82–91. Springer.\n",
    "\n",
    "Bartsch, Miriam, and Tobias Dienlin. 2016. “Control Your Facebook: An Analysis of Online Privacy Literacy.” *Computers in Human Behavior* 56 (March): 147–54. <https://doi.org/10.1016/j.chb.2015.11.022>.\n",
    "\n",
    "Hancké, Bob. 2023. *Intelligent Research Design: A Guide for Beginning Researchers in the Social Sciences*. Oxford Scholarship Online. Oxford: Oxford University Press. <https://doi.org/10.1093/oso/9780199570782.001.0001>.\n",
    "\n",
    "Herrmann, Dominik, and Jens Lindemann. 2016. “Obtaining Personal Data and Asking for Erasure: Do App Vendors and Website Owners Honour Your Privacy Rights?” arXiv. <https://doi.org/10.48550/arXiv.1602.01804>.\n",
    "\n",
    "Hummel, Patrik, Matthias Braun, Max Tretter, and Peter Dabrock. 2021. “Data Sovereignty: A Review.” *Big Data & Society* 8 (1): 2053951720982012.\n",
    "\n",
    "Koltay, Tibor. 2016. “Data Governance, Data Literacy and the Management of Data Quality.” *IFLA Journal* 42 (4): 303–12.\n",
    "\n",
    "Leenes, Ronald, and Eleni Kosta. 2015. “Taming the Cookie Monster with Dutch Law–a Tale of Regulatory Failure.” *Computer Law & Security Review* 31 (3): 317–35.\n",
    "\n",
    "Nissenbaum, Helen. 2004. “Privacy as Contextual Integrity” 79: 119.\n",
    "\n",
    "Prinsloo, Paul, and Rogers Kaliisa. 2022. “Data Privacy on the African Continent: Opportunities, Challenges and Implications for Learning Analytics.” *British Journal of Educational Technology* 53 (4): 894–913. <https://doi.org/10.1111/bjet.13226>.\n",
    "\n",
    "Puaschunder, Julia M. 2018. “Dignity and Utility of Privacy and Information Sharing in the Digital Big Data Age.” *International Journal of Commerce and Management Research* 5 (4): 62–70.\n",
    "\n",
    "Sovacool, Benjamin K., Jonn Axsen, and Steve Sorrell. 2018. “Promoting Novelty, Rigor, and Style in Energy Social Science: Towards Codes of Practice for Appropriate Methods and Research Design.” *Energy Research & Social Science*, Special Issue on the Problems of Methods in Climate and Energy Research, 45 (November): 12–42. <https://doi.org/10.1016/j.erss.2018.07.007>.\n",
    "\n",
    "Wernerfelt, Nils, Anna Tuchman, Bradley T. Shapiro, and Robert Moakler. 2025. “Estimating the Value of Offsite Tracking Data to Advertisers: Evidence from Meta.” *Marketing Science* 44 (2): 268–86. <https://doi.org/10.1287/mksc.2023.0274>."
   ],
   "id": "ad43412e-8663-4de2-a9ec-143d8f09644d"
  }
 ],
 "nbformat": 4,
 "nbformat_minor": 5,
 "metadata": {}
}

{
 "cells": [
  {
   "cell_type": "markdown",
   "metadata": {},
   "source": [
    "# Discovering a pattern of privacy literacy in rural Sub Saharan Africa\n",
    "\n",
    "Fritz Van Deventer\n",
    "\n",
    "## Introduction\n",
    "\n",
    "Digital connectivity is a must for advancing economic growth and personal development, whether we like it or not. Digital privacy however is something we often neglect, or we cannot really afford to think about, when communication with our loved ones is at stake."
   ],
   "id": "2bef073c-d9c0-4c7b-8e18-6e84de7e64f9"
  }
 ],
 "nbformat": 4,
 "nbformat_minor": 5,
 "metadata": {}
}

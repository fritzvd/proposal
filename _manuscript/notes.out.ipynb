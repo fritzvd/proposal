{
 "cells": [
  {
   "cell_type": "markdown",
   "metadata": {},
   "source": [
    "# Notes\n",
    "\n",
    "Frederik J. Van Deventer\n",
    "\n",
    "-   “While privacy is recognised as a right by some African states, this is only rarely translated into justiciable rights and is almost never a constraint on the behaviour of governments and their secret police. This can be seen in the areas of data protection, surveillance and cybersecurity.” - Sutherland ([2018](#ref-sutherlandDigitalPrivacyAfrica2018))\n",
    "\n",
    "Sutherland, Ewan. 2018. “Digital Privacy in Africa: Cybersecurity, Data Protection & Surveillance.” *SSRN Electronic Journal*. <https://doi.org/10.2139/ssrn.3201310>."
   ],
   "id": "fe3f3c5b-1bd8-4b10-98cd-5b0ff43cf4c2"
  }
 ],
 "nbformat": 4,
 "nbformat_minor": 5,
 "metadata": {}
}

{
 "cells": [
  {
   "cell_type": "markdown",
   "metadata": {},
   "source": [
    "# PhD Proposal\n",
    "\n",
    "Frederik J van Deventer (HAN University of Applied Sciences)\n",
    "\n",
    "## Why don’t we care about privacy?\n",
    "\n",
    "-   similar to not caring about the environment\n",
    "-   vegetarianism\n",
    "-   dopanmine, addiction to social media\n",
    "-   necessity. gmail is just so cheap\n",
    "\n",
    "### solution\n",
    "\n",
    "Prevalence, front of mind consequence meditation\n",
    "\n",
    "## Introduction\n",
    "\n",
    "As humans in a digital society we are living lives that are entwined with technology that exchanges data. We need to exchange data to track our businesses, for our communications with friends and family, to come ahead in our educational system, to pay our taxes etcetera, etcetera. We sacrifice our privacy to get access to free applications or to benefit our security ([McKinnon 2014](#ref-mckinnon2014sacrificing)), or move along faster in a health system \\[\\], or even to register for asylum ([Lodinová 2016](#ref-lodinovaApplicationBiometricsMeans2016)). These applications typically track our internet behaviour ([Makhortykh et al. 2022](#ref-makhortykhTrackNotTrack2022); [Razaghpanah et al. 2018](#ref-razaghpanahAppsTrackersPrivacy2018)). This tracking of biometric, location and social data is not without danger, this data is also used for the creation of economic value and has lead to something more than just a phenomenon of capitalism; it’s a manifestation of colonialism ([Couldry and Mejias 2019](#ref-couldry2019data)).\n",
    "\n",
    "With new developments in AI this becomes more prevalent as data and AI “entrench power assymetries and engender new forms of structural violence and new inequities between the Global South and North” ([Madianou 2024](#ref-madianou2024technocolonialism)). There is little to no protection or privacy for private consumers unless government regulation explicitly makes it so, like the GDPR program ([Arora 2019](#ref-arora2019general)). Much of Global South legislation is lagging behind or has met with challenges in enforcing the laws set in place ([Prinsloo and Kaliisa 2022](#ref-prinslooDataPrivacyAfrican2022)).\n",
    "\n",
    "In light of this\n",
    "\n",
    "*Directions this could take. Validating all these promises AI seems to make. And vouching for privacy or security of the data disclosed with these agents.*"
   ],
   "id": "6d96db95-0d25-473b-89ab-8577e8d53a3b"
  },
  {
   "cell_type": "raw",
   "metadata": {
    "raw_mimetype": "text/html"
   },
   "source": [
    "<!-- Third parties are becoming an integral part of government policy to deal with the process of data collection and analysis [@johnson2023owns]. -->"
   ],
   "id": "70970319-8ee6-4dcc-9b60-a138bad98e42"
  },
  {
   "cell_type": "raw",
   "metadata": {
    "raw_mimetype": "text/html"
   },
   "source": [
    "<!-- \n",
    "> Most countries outside the West have lax or no privacy laws (Taylor, Floridi, and van der Sloot 2016). Brazil passed its first privacy laws in 2014, while India passed some in 2017. - [@arora2019general]\n",
    "\n",
    "__governance__ __legislation__ -->"
   ],
   "id": "64fad272-18aa-4f25-895a-96b6d112f1f1"
  },
  {
   "cell_type": "markdown",
   "metadata": {},
   "source": [
    "## Research Questions\n",
    "\n",
    "In what way can power assymetries between the majority world and the minority world be limited by effective legislation towards protecting personal data of citizens?\n",
    "\n",
    "How can privacy literacy be increased that respects a cultural tradition without using a Eurocentric view of individual privacy but including a collective privacy?\n",
    "\n",
    "What does privacy mean in rural areas\n",
    "\n",
    "## Methodology\n",
    "\n",
    "-   Qualitative investigation of policy, laws in different countries\n",
    "-   Questionnaire on usage of internet and awareness of privacy concerns..\n",
    "\n",
    "## References\n",
    "\n",
    "Arora, Payal. 2019. “General Data Protection Regulation—A Global Standard? Privacy Futures, Digital Activism, and Surveillance Cultures in the Global South.” *Surveillance & Society* 17 (5): 717–25.\n",
    "\n",
    "Couldry, Nick, and Ulises A Mejias. 2019. “Data Colonialism: Rethinking Big Data’s Relation to the Contemporary Subject.” *Television & New Media* 20 (4): 336–49.\n",
    "\n",
    "Lodinová, Anna. 2016. “Application of Biometrics as a Means of Refugee Registration: Focusing on UNHCR’s Strategy” 2 (2).\n",
    "\n",
    "Madianou, Mirca. 2024. *Technocolonialism: When Technology for Good Is Harmful*. John Wiley & Sons.\n",
    "\n",
    "Makhortykh, Mykola, Aleksandra Urman, Teresa Gil-Lopez, and Roberto Ulloa. 2022. “To Track or Not to Track: Examining Perceptions of Online Tracking for Information Behavior Research.” *Internet Research* 32 (7): 260–79. <https://doi.org/10.1108/INTR-01-2021-0074>.\n",
    "\n",
    "McKinnon, Ashton. 2014. “Sacrificing Privacy for Convenience: The Need for Stricter FTC Regulations in an Age of Smartphone Surveillance.” *J. Nat’l Ass’n Admin. L. Judiciary* 34: 484.\n",
    "\n",
    "Prinsloo, Paul, and Rogers Kaliisa. 2022. “Data Privacy on the African Continent: Opportunities, Challenges and Implications for Learning Analytics.” *British Journal of Educational Technology* 53 (4): 894–913. <https://doi.org/10.1111/bjet.13226>.\n",
    "\n",
    "Razaghpanah, Abbas, Rishab Nithyanand, Narseo Vallina-Rodriguez, Srikanth Sundaresan, Mark Allman, Christian Kreibich, and Phillipa Gill. 2018. “Apps, Trackers, Privacy, and Regulators: A Global Study of the Mobile Tracking Ecosystem.” In *Proceedings 2018 Network and Distributed System Security Symposium*. San Diego, CA: Internet Society. <https://doi.org/10.14722/ndss.2018.23353>."
   ],
   "id": "e4b5237f-06f4-402a-8428-df9b5e57845b"
  }
 ],
 "nbformat": 4,
 "nbformat_minor": 5,
 "metadata": {}
}

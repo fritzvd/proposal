{
 "cells": [
  {
   "cell_type": "markdown",
   "metadata": {},
   "source": [
    "# Towards solutions with impact : rebridging the digital gap in areas\n",
    "\n",
    "Frederik J. Van Deventer\n",
    "\n",
    "## Context\n",
    "\n",
    "The digital divide is not a new phenomenon. It is usually described as the gap existing between those whore are able to make use of Internet and Communication Technologies (ICTs) and those who can not \\[@van2017digital\\]. This has a number of levels of inequality \\[@lythreatisDigitalDivideReview2022\\]\n",
    "\n",
    "## Solution\n",
    "\n",
    "Mobile stations that serve as a gateway for simple phones."
   ],
   "id": "0b708ec5-a6a8-4a5d-b80c-e28152a65814"
  }
 ],
 "nbformat": 4,
 "nbformat_minor": 5,
 "metadata": {}
}

{
 "cells": [
  {
   "cell_type": "markdown",
   "metadata": {},
   "source": [
    "# Discovering a pattern of privacy literacy in rural Sub Saharan Africa\n",
    "\n",
    "Fritz Van Deventer\n",
    "\n",
    "## Introduction\n",
    "\n",
    "Digital connectivity is a must for advancing economic growth and personal development, whether we like it or not. Digital privacy however is something we often neglect, or we cannot really afford to think about, when communication with our loved ones is at stake."
   ],
   "id": "74318cc4-af39-42bb-ae99-4892b36019dd"
  }
 ],
 "nbformat": 4,
 "nbformat_minor": 5,
 "metadata": {}
}

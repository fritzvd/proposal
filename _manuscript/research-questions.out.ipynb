{
 "cells": [
  {
   "cell_type": "markdown",
   "metadata": {},
   "source": [
    "# Understanding privacy AI in the context of digital literacy\n",
    "\n",
    "Fritz Van Deventer\n",
    "\n",
    "## Introduction\n",
    "\n",
    "Digital connectivity is a must for advancing economic growth and personal development, whether we like it or not. Digital privacy however is something we often neglect, or is a luxury to consider ([Papacharissi 2010](#ref-papacharissiPrivacyLuxuryCommodity2010)), when most communication platforms require a privacy sacrifice to partake in its benefits for free. Low digital literacy in combination with high connectivity can be dangerous. Multiple studies have seen a combination of reasons why some people are more prone to be a victim of fraud, one of which is low digital literacy ([Li, Li, and Du 2024](#ref-liDoesDigitalLiteracy2024)). Most people are not aware that all the small bits and pieces we offer to social platforms can be used by big tech companies to put together a “Gestalt” of a user ([Puaschunder 2018](#ref-puaschunder2018dignity)). Or put more simply, to understand what constitutes and drives an individual online.\n",
    "\n",
    "In the quest to increase profits and acquire the “next billion users”, big tech companies are trying to get more people online and part of their platforms by offering zero-rated services ([“Meta Connectivity” n.d.](#ref-MetaConnectivity)), \\[more sources\\]. The benefits of LLM’s and GenAI are largely available for free where users offer a lot of details about private matters, work-related documents without clearly stating what is being done with their data.\n",
    "\n",
    "Besides that GenAI makes it a lot easier to cause harm by creating misinformation at the speed of light, and enhance digital images and videos that some people cannot descern from real.\n",
    "\n",
    "How then do people in low digital literacy environments educate themselves to guard themselves against these forces?\n",
    "\n",
    "## Research Question\n",
    "\n",
    "1.  How do people in low digital literacy environments, overcome vectors that seek to do harm?\n",
    "\n",
    "### Sub-questions\n",
    "\n",
    "1.  What constitutes low digital literacy and how does privacy and AI have their own blind spots?\n",
    "2.  What are ways to increase digital literacy concerning privacy?\n",
    "3.  How can people be instructed recognize “AI smells”?\n",
    "\n",
    "## References\n",
    "\n",
    "Li, Peng, Qinghai Li, and Shanxing Du. 2024. “Does Digital Literacy Help Residents Avoid Becoming Victims of Frauds? Empirical Evidence Based on a Survey of Residents in Six Provinces of East China.” *International Review of Economics & Finance* 91 (March): 364–77. <https://doi.org/10.1016/j.iref.2024.01.056>.\n",
    "\n",
    "“Meta Connectivity.” n.d. https://www.facebook.com/connectivity/solutions/free-basics/. Accessed July 10, 2025.\n",
    "\n",
    "Papacharissi, Zizi. 2010. “Privacy as a Luxury Commodity.” *First Monday* 15 (8). <https://doi.org/10.5210/fm.v15i8.3075>.\n",
    "\n",
    "Puaschunder, Julia M. 2018. “Dignity and Utility of Privacy and Information Sharing in the Digital Big Data Age.” *International Journal of Commerce and Management Research* 5 (4): 62–70."
   ],
   "id": "fdd05e08-f637-4f10-9210-c4159f138894"
  }
 ],
 "nbformat": 4,
 "nbformat_minor": 5,
 "metadata": {}
}

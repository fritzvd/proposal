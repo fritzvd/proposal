{
 "cells": [
  {
   "cell_type": "markdown",
   "metadata": {},
   "source": [
    "# Discovering a pattern of privacy literacy in rural Botswana\n",
    "\n",
    "Frederik J. Van Deventer\n",
    "\n",
    "## Context\n",
    "\n",
    "With the rise of digitization and the data is produces, the question of ownership of data becomes a contested issue for agents such as Indigenous people, consumers and countries\\[@hummel2021data\\]. If the ownership is not clear and personal data cannot always be obtained \\[@herrmannObtainingPersonalData2016\\] it should be clear we should not only look to data governance but also to privacy literacy \\[@koltay2016data\\]. According to @rotmanAreYouLooking for users to consciously decide what happens with their information they should go from *understanding, recognizing, realizing, evaluating* to *deciding*. Much of privacy literacy literature has used ethnocentric Western-based ideas of governance and regulation that do not take into account the multi-varied ways privacy can be perceived in the Majority World\\[@arora2019general\\].\n",
    "\n",
    "Some Big Tech parties have decided to bring to the Majority World in the last decade \\[@\\]\n",
    "\n",
    "## Problem\n",
    "\n",
    "Understanding what happens with your data is difficult and ambigiuous in a context where internet is free. What is the cost of that internet being free?\n",
    "\n",
    "### Forces\n",
    "\n",
    "Initiatives as the free internet programme by meta Free Basics \\[@MetaConnectivity\\] have a very different driving force. It is expanding the Facebook empire.\n",
    "\n",
    "## Solution\n",
    "\n",
    "Using a non-eurocentric privacy model, in places where privacy is more collective to understand how to\n",
    "\n",
    "## Consequences\n",
    "\n",
    "If people are aware of their predicament"
   ],
   "id": "7c32b833-5e9d-4830-b7e1-d7334802abcd"
  }
 ],
 "nbformat": 4,
 "nbformat_minor": 5,
 "metadata": {}
}
